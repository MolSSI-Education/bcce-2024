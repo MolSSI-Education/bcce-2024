{
 "cells": [
  {
   "cell_type": "markdown",
   "metadata": {},
   "source": [
    "<center>\n",
    "    <img src=\"./Images/molssi_ai.png\"\n",
    "         alt=\"MolSSI-AI Logo\"\n",
    "         width=400 \n",
    "         height=250\n",
    "    />\n",
    "</center>"
   ]
  },
  {
   "cell_type": "markdown",
   "metadata": {
    "tags": []
   },
   "source": [
    "## Learning Objectives\n",
    "- Perform exploratory data analysis (EDA), data preprocessing and featurization\n",
    "- Create and train a linear regression model and apply it to solve a practical cheminformatics problem\n",
    "- Evaluate the performance of the trained models on test data\n",
    "- Determine the importance of cross-validation on the quality of the trained models\n",
    "- Use PyCaret to automate the process of creating, training and evaluating the regression models"
   ]
  },
  {
   "cell_type": "markdown",
   "metadata": {},
   "source": [
    "Before we start, let's make sure we have the necessary libraries ready for use.\n",
    "The following code cell will take a few minutes to run, so please be patient."
   ]
  },
  {
   "cell_type": "code",
   "execution_count": null,
   "metadata": {},
   "outputs": [],
   "source": [
    "%pip install pycaret sweetviz -q --no-warn-script-location"
   ]
  },
  {
   "cell_type": "code",
   "execution_count": null,
   "metadata": {
    "ExecuteTime": {
     "end_time": "2024-06-26T16:51:46.314577Z",
     "start_time": "2024-06-26T16:51:46.301095Z"
    }
   },
   "outputs": [],
   "source": [
    "import pandas as pd                 # for data manipulation\n",
    "import seaborn as sns               # for data visualization\n",
    "import matplotlib.pyplot as plt     # for data visualization\n",
    "import numpy as np                  # for numerical operations\n",
    "\n",
    "from sklearn.preprocessing import StandardScaler            # for scaling the data\n",
    "from sklearn.model_selection import train_test_split        # for splitting the data into training and testing sets\n",
    "from sklearn.model_selection import cross_val_score, KFold  # for K-fold cross-validation\n",
    "from sklearn.linear_model import LinearRegression           # for creating a linear regression model\n",
    "from sklearn.dummy import DummyRegressor                    # for creating a base regressor to compare the model with\n",
    "from sklearn.metrics import mean_squared_error, r2_score    # for evaluating the model\n",
    "from sklearn.pipeline import make_pipeline                  # for building operational pipelines\n",
    "\n",
    "import sweetviz as sv               # for automatic EDA"
   ]
  },
  {
   "cell_type": "markdown",
   "metadata": {},
   "source": [
    "<div class=\"alert alert-block alert-info\">\n",
    "    <b>Note</b>\n",
    "    We have added comments to clarify the purpose of each imported library.\n",
    "</div>"
   ]
  },
  {
   "cell_type": "markdown",
   "metadata": {},
   "source": [
    "## Problem Statement"
   ]
  },
  {
   "cell_type": "markdown",
   "metadata": {},
   "source": [
    "In this tutorial, we will be working on a **supervised learning** problem which involves both featurized data and their corresponding labels. The goal is to predict the solubility of a molecule base on its chemical structure using regression models. We are going to use the [Delaney's solubility dataset](https://doi.org/10.1021/ci034243x). It contains the chemical structures of 1144 compounds along with their experimentally measured solubility in mol/L. We provide a preprocessed version of the [dataset](https://github.com/MolSSI-Education/bcce-2024/tree/main/data) in the comma-separated value (CSV) format.\n",
    "\n",
    "Let's load the solubility data using the ``pandas`` library \n",
    "and take a look at a few samples in the dataset"
   ]
  },
  {
   "cell_type": "code",
   "execution_count": 11,
   "metadata": {
    "ExecuteTime": {
     "end_time": "2024-06-26T16:49:13.095479Z",
     "start_time": "2024-06-26T16:49:13.088117Z"
    }
   },
   "outputs": [
    {
     "data": {
      "text/html": [
       "<div>\n",
       "<style scoped>\n",
       "    .dataframe tbody tr th:only-of-type {\n",
       "        vertical-align: middle;\n",
       "    }\n",
       "\n",
       "    .dataframe tbody tr th {\n",
       "        vertical-align: top;\n",
       "    }\n",
       "\n",
       "    .dataframe thead th {\n",
       "        text-align: right;\n",
       "    }\n",
       "</style>\n",
       "<table border=\"1\" class=\"dataframe\">\n",
       "  <thead>\n",
       "    <tr style=\"text-align: right;\">\n",
       "      <th></th>\n",
       "      <th>MolLogP</th>\n",
       "      <th>MolWt</th>\n",
       "      <th>NumRotatableBonds</th>\n",
       "      <th>AromaticProportion</th>\n",
       "      <th>logS</th>\n",
       "    </tr>\n",
       "  </thead>\n",
       "  <tbody>\n",
       "    <tr>\n",
       "      <th>0</th>\n",
       "      <td>2.5954</td>\n",
       "      <td>167.850</td>\n",
       "      <td>0</td>\n",
       "      <td>0.0</td>\n",
       "      <td>-2.18</td>\n",
       "    </tr>\n",
       "    <tr>\n",
       "      <th>1</th>\n",
       "      <td>2.3765</td>\n",
       "      <td>133.405</td>\n",
       "      <td>0</td>\n",
       "      <td>0.0</td>\n",
       "      <td>-2.00</td>\n",
       "    </tr>\n",
       "    <tr>\n",
       "      <th>2</th>\n",
       "      <td>2.5938</td>\n",
       "      <td>167.850</td>\n",
       "      <td>1</td>\n",
       "      <td>0.0</td>\n",
       "      <td>-1.74</td>\n",
       "    </tr>\n",
       "    <tr>\n",
       "      <th>3</th>\n",
       "      <td>2.0289</td>\n",
       "      <td>133.405</td>\n",
       "      <td>1</td>\n",
       "      <td>0.0</td>\n",
       "      <td>-1.48</td>\n",
       "    </tr>\n",
       "    <tr>\n",
       "      <th>4</th>\n",
       "      <td>2.9189</td>\n",
       "      <td>187.375</td>\n",
       "      <td>1</td>\n",
       "      <td>0.0</td>\n",
       "      <td>-3.04</td>\n",
       "    </tr>\n",
       "  </tbody>\n",
       "</table>\n",
       "</div>"
      ],
      "text/plain": [
       "   MolLogP    MolWt  NumRotatableBonds  AromaticProportion  logS\n",
       "0   2.5954  167.850                  0                 0.0 -2.18\n",
       "1   2.3765  133.405                  0                 0.0 -2.00\n",
       "2   2.5938  167.850                  1                 0.0 -1.74\n",
       "3   2.0289  133.405                  1                 0.0 -1.48\n",
       "4   2.9189  187.375                  1                 0.0 -3.04"
      ]
     },
     "execution_count": 11,
     "metadata": {},
     "output_type": "execute_result"
    }
   ],
   "source": [
    "# Path to the preprocessed data file\n",
    "data_path = \"./data/solubility-processed.csv\"\n",
    "\n",
    "# Read the data into a DataFrame\n",
    "df = pd.read_csv(data_path,\n",
    "                 dtype={\"MolLogP\": \"float64\", \n",
    "                        \"MolWt\": \"float64\",\n",
    "                        \"NumRotatableBonds\": \"int\",\n",
    "                        \"AromaticProportion\": \"float\",\n",
    "                        \"logS\": \"float64\"\n",
    "                        })\n",
    "\n",
    "# Display the first few rows of the DataFrame\n",
    "df.head()"
   ]
  },
  {
   "cell_type": "markdown",
   "metadata": {},
   "source": [
    "The dataset contains the following columns:\n",
    "- **MolLogP**: solubility values estimated by [Daylight CLOGP version 4.72](https://www.daylight.com/dayhtml/doc/clogp/index.html)\n",
    "- **MolWt**: molecular weight\n",
    "- **NumRotatableBonds**: number of rotatable bonds\n",
    "- **AromaticProportion**: the portion of heavy atoms that are in an aromatic ring\n",
    "- **logS**: the solubility of the molecule in mol/L measured at 25 $\\degree C$ "
   ]
  },
  {
   "cell_type": "markdown",
   "metadata": {},
   "source": [
    "### Sidebar: A Brief Note on Solubility"
   ]
  },
  {
   "cell_type": "markdown",
   "metadata": {
    "ExecuteTime": {
     "end_time": "2024-06-26T16:49:44.121462Z",
     "start_time": "2024-06-26T16:49:44.025680Z"
    }
   },
   "source": [
    "The solubility of a molecule is a critical property in medicinal chemistry, drug discovery, and agrochemistry as it determines the bioavailability of a drug or pesticide.\n",
    "**Partition coefficient**, $P$, measures the propensity of a neutral compound to dissolve in a mixture of two immiscible solvents, often water and octanol. In simple terms, it determines how much of a solute dissolves in the aqueous phase versus the organic portion.\n",
    "\n",
    "The partition coefficient is defined as:\n",
    "\n",
    "$$\n",
    "P = \\frac{[Solute]_{\\text{organic}}}{[Solute]_{\\text{aqueous}}}     \n",
    "$$\n",
    "\n",
    "where $[Solute]_{\\text{organic}}$ and $[Solute]_{\\text{aqueous}}$ are the concentrations of the solute in the organic and aqueous phases, respectively.\n",
    "Instead of $P$, we often use the logarithm of the partition coefficient, $\\log P$, which is more convenient to work with. A negative value of $\\log P$ indicates that the solute is more soluble in water, while a positive value indicates that the solute is more soluble in the organic phase. When $\\log P$ is close to zero, the solute is equally soluble in both phases. Although $\\log P$ is a constant value, its magnitude is dependent on the measurement conditions and the choice of the organic solvent."
   ]
  },
  {
   "cell_type": "markdown",
   "metadata": {},
   "source": [
    "<div class=\"alert alert-block alert-success\"> \n",
    "    <b>Exercise</b>\n",
    "    What does logP value of 1 mean?\n",
    "</div>"
   ]
  },
  {
   "cell_type": "markdown",
   "metadata": {
    "jupyter": {
     "source_hidden": true
    },
    "tags": []
   },
   "source": [
    "#### Solution\n",
    "\n",
    "A $\\log P$ value of 1 indicates that the solute is 10 times more soluble in the organic phase than in the aqueous phase."
   ]
  },
  {
   "cell_type": "markdown",
   "metadata": {},
   "source": [
    "## Exploratory Data Analysis (EDA)"
   ]
  },
  {
   "cell_type": "markdown",
   "metadata": {},
   "source": [
    "The first step after stating the problem is to perform exploratory data analysis (EDA) on raw data. The EDA is crucial for data preprocessing pipelines as it helps us understand the nature of our data, identify the key patterns and relationships, and detect anomalies. The EDA involves summarizing the main characteristics of the data, often using visual methods. \n",
    "\n",
    "Loading the data into a Pandas DataFrame provides a convenient way to perform EDA. Let's start by getting a high-level overview of the dataset\n",
    "using the ``info`` function"
   ]
  },
  {
   "cell_type": "code",
   "execution_count": null,
   "metadata": {},
   "outputs": [],
   "source": [
    " # Analyse Dataset\n",
    "report = sv.analyze(df)\n",
    "\n",
    "# View and Save\n",
    "report.show_notebook()"
   ]
  },
  {
   "cell_type": "markdown",
   "metadata": {},
   "source": [
    "### Checking for missing values\n",
    "Since the data is already preprocessed, the number of ``Missing`` values for all features should be zero. The experimentally measured solubility in the last column ``logS`` is the target variable and the remaining columns are the features."
   ]
  },
  {
   "cell_type": "markdown",
   "metadata": {},
   "source": [
    "<div class=\"alert alert-block alert-success\"> \n",
    "    <b>Exercise</b>\n",
    "    Are there any missing values in the data set?\n",
    "</div>"
   ]
  },
  {
   "cell_type": "markdown",
   "metadata": {},
   "source": [
    "### Statistical summary of the data\n",
    "We also see a statistical summary of each numerical features in our dataset. The provided statistics include the count (values_, mean, standard deviation, minimum, 25th percentile, median, average, 75th percentile, and maximum values for each feature.\n",
    "\n",
    "This information is extremely useful for understanding the data and the distribution of the features. It helps in identifying anomalies in the data or if our data requires any preprocessing. "
   ]
  },
  {
   "cell_type": "markdown",
   "metadata": {},
   "source": [
    "<div class=\"alert alert-block alert-success\"> \n",
    "    <b>Exercise</b>\n",
    "    What is the range of the logS values in this dataset?\n",
    "    </div>"
   ]
  },
  {
   "cell_type": "markdown",
   "metadata": {},
   "source": [
    "### Skewedness\n",
    "The skewedness of the data, which is determined by comparing the mean and median values, is also provided.\n",
    "\n",
    "The numerical values of skewness can be interpreted using the following rules:\n",
    "- The skewness value of zero indicates a perfect symmetrical distribution,\n",
    "- a skewness between -0.5 and 0.5 indicates an approximately symmetric distribution,\n",
    "- a skewness between -1 and -0.5 (or 0.5 and 1) indicates a moderately skewed distribution,\n",
    "- a skewness between -1.5 and -1 (or 1 and 1.5) indicates a highly skewed distribution, and\n",
    "- a skewness less than -1.5 (or greater than 1.5) indicates an extremely skewed distribution."
   ]
  },
  {
   "cell_type": "markdown",
   "metadata": {},
   "source": [
    "<div class=\"alert alert-block alert-success\"> \n",
    "    <b>Exercise</b>\n",
    "    Use the skewness rules and the histograms to categorize the skewness of all five properties based on the calculated skewness values.\n",
    "</div>"
   ]
  },
  {
   "cell_type": "markdown",
   "metadata": {},
   "source": [
    "### Correlation of features with target variable\n",
    "The correlation matrix between the features and the target variable provides insights into the relationships between the features and the target variable(s). You may need to click on the \"Associations\" button in order to see the correlation matrix.\n",
    "\n",
    "A correlation value close to 1 indicates a strong positive relationship, while a correlation value close to -1 indicates a strong negative relationship. A correlation value close to 0 indicates no relationship between the features.\n",
    "\n",
    "The coloring scheme makes it easy to uncover the relationships between the features. The darker the color, the stronger the correlation. The diagonal line represents the correlation of each feature with itself, which is always 1. The blue color indicates a positive correlation, while the red color signifies a negative correlation (based on the provided key)."
   ]
  },
  {
   "cell_type": "markdown",
   "metadata": {},
   "source": [
    "<div class=\"alert alert-block alert-success\"> \n",
    "    <b>Exercise</b>\n",
    "    Based on the correlation plot, which feature is most strongly correlated with the logS value? And is it a negative or positive correlation?\n",
    "</div>"
   ]
  },
  {
   "cell_type": "markdown",
   "metadata": {},
   "source": [
    "## Splitting the data into training and testing sets\n",
    "\n",
    "Once we have a good understanding of the data, we can move on to the next step, which is splitting the data into a training set and a testing set. The training set is used to train the model, and the testing set is used to evaluate the model's performance. This process allows you to test the model's accuracy on unseen data and ensures that the model can generalize well to new data.\n",
    "\n",
    "It is extremely important to split the data first and then perform subsequent feature engineering steps. Feature engineering prior to splitting the data can cause a <b>data leakage</b> problem, allowing the model to \"see\" the testing data in the training phase. This violates our intention to treat the test data as a good representative sample of the real-world data. Data leakage leads to a model that performs well in training and testing but that performs poorly when given novel data."
   ]
  },
  {
   "cell_type": "markdown",
   "metadata": {},
   "source": [
    "To create our training and testing data sets, we will use the ``train_test_split`` function from the ``sklearn.model_selection`` module to split the data. The training set will be used to train the model, while the testing set will be used to evaluate the model's performance."
   ]
  },
  {
   "cell_type": "markdown",
   "metadata": {},
   "source": [
    "The next step in the feature engineering process is to split the data into features and target variables. We will use the ``train_test_split`` function from the ``sklearn.model_selection`` module to split the data into training and testing sets. The training set will be used to train the model, while the testing set will be used to evaluate the model's performance.\n",
    "\n",
    "Useful information about the train test split process:\n",
    "- ``x`` is generally used as the label for the input variables (the data the model will use to make predictions)\n",
    "- ``y`` is generally used as the label the target variable (what we are trying to predict)\n",
    "- ``test_size`` is used to assign the percentage of the data set aside for the testing set\n",
    "- ``random_state`` controls the random number generator used to shuffle the data before splitting it. In other words, it ensures that the same randomization is used each time you run the code, resulting in the same splits of the data. This is especially useful if you want to compare the performance of multiple models\n",
    "- ``shuffle = True`` ensures that the data is split randomly, to prevent any randomizing and pre-existing sorting in the original data, ensuring we do not generate train and test sets that are markedly different in content from one another"
   ]
  },
  {
   "cell_type": "code",
   "execution_count": null,
   "metadata": {},
   "outputs": [],
   "source": [
    "# Create the feature matrix (X), feature vector (x), and the target vector (y)\n",
    "X = df.drop(columns=['logS'])\n",
    "x = X[\"MolLogP\"]\n",
    "y = df['logS']\n",
    "\n",
    "# Split the data into training and testing sets (80% training, 20% testing)\n",
    "x_train, x_test, y_train, y_test = train_test_split(x, y, test_size=0.2, random_state=123, shuffle=True)\n",
    "\n",
    "# Reshape the data into 2D arrays of shape (n_samples, 1)--need if only one input feature\n",
    "x_train = x_train.values.reshape(-1,1)\n",
    "x_test = x_test.values.reshape(-1,1)\n",
    "y_train = y_train.values.reshape(-1,1)\n",
    "y_test = y_test.values.reshape(-1,1)\n",
    "\n",
    "# Display the shapes of the training and testing sets\n",
    "x_train.shape, x_test.shape, y_train.shape, y_test.shape"
   ]
  },
  {
   "cell_type": "markdown",
   "metadata": {},
   "source": [
    "<div class=\"alert alert-block alert-info\">\n",
    "    <b>Note</b>\n",
    "    Note the use of the <b>x</b> vector in the <b>train_test_split</b> function as initially we will train a model using only one input feature.<br> If we instead want to use all the available features we would need to use the <b>X</b> matrix that we have defined.\n",
    "</div>"
   ]
  },
  {
   "cell_type": "markdown",
   "metadata": {},
   "source": [
    "## Feature Engineering"
   ]
  },
  {
   "cell_type": "markdown",
   "metadata": {},
   "source": [
    "Once we have a good understanding of the data, we can move on to the next step, which is feature engineering. Feature engineering is the process of transforming the raw data into a format that is suitable for machine learning models. Feature engineering often involves creating new features, selecting the most important features, and transforming the existing features in order to improve the model's performance.\n",
    "\n",
    "After splitting our data, we need to scale our train and test features. Scaling is a crucial step in the data preprocessing pipeline as it ensures that all features have the same scale, since many machine learning models are sensitive to the scale of the input features. We will use the ``StandardScaler`` from the ``sklearn.preprocessing`` module to scale our features. ``StandardScaler`` transforms the data in such a manner that it has mean value of 0 and a standard deviation value of 1."
   ]
  },
  {
   "cell_type": "code",
   "execution_count": null,
   "metadata": {},
   "outputs": [],
   "source": [
    "# Create the standard scaler object\n",
    "scaler = StandardScaler()\n",
    "\n",
    "# Fit and transform the training feature vector x_train\n",
    "x_train_scaled = scaler.fit_transform(x_train)\n",
    "\n",
    "# Transform the test feature vector x_test\n",
    "x_test_scaled = scaler.transform(x_test)\n",
    "\n",
    "# Make sure the training data is scaled correctly\n",
    "print(f\" Training feature mean: {x_train_scaled.mean():.5f}\")\n",
    "print(f\" Training feature standard deviation: {x_train_scaled.std():.5f}\\n\")\n",
    "\n",
    "# Print the scaler statistics on the test data\n",
    "print(f\" Testing feature mean: {x_test_scaled.mean():.5f}\")\n",
    "print(f\" Testing feature standard deviation: {x_test_scaled.std():.5f}\")"
   ]
  },
  {
   "cell_type": "markdown",
   "metadata": {},
   "source": [
    "<div class=\"alert alert-block alert-info\">\n",
    "    <b>Reminder:</b>\n",
    "    It is extremely important to split the data first and then fit the scaler on the training data, only. Fitting the scaler on the entire data and then splitting it causes the <b>data leakage</b> problem which violates our intention to treat the test data as a good representative sample of the real-world data.  \n",
    "</div>\n"
   ]
  },
  {
   "cell_type": "markdown",
   "metadata": {},
   "source": [
    "## Building and Training a Linear Regression Model"
   ]
  },
  {
   "cell_type": "markdown",
   "metadata": {},
   "source": [
    "### Dummy Model"
   ]
  },
  {
   "cell_type": "markdown",
   "metadata": {},
   "source": [
    "The next step after the data preparation is to build and train our model. We will build a simple linear regression model which focuses on the relationship between a single feature (``MolLogP``) and the target variable (``logS``). "
   ]
  },
  {
   "cell_type": "markdown",
   "metadata": {},
   "source": [
    "<div class=\"alert alert-block alert-success\"> \n",
    "    <b>Exercise</b>\n",
    "    What is the reason behind choosing <b>MolLogP</b> as our main feature in the linear regression model?\n",
    "</div>"
   ]
  },
  {
   "cell_type": "markdown",
   "metadata": {},
   "source": [
    "In order to evaluate the performance of our model, we can first create a dummy \"model\" using the ``DummyRegressor`` class from the ``sklearn.dummy`` module. This class provides a simple way to create a model that calculates the mean value of the target feature and predicts this mean value for each observation. The ``fit`` method is used to train the model on the training data. Once the model is trained, we can use the ``predict`` method to make predictions on the test data. Note that the ``DummyRegressor`` is not for solving real problems!"
   ]
  },
  {
   "cell_type": "code",
   "execution_count": null,
   "metadata": {
    "ExecuteTime": {
     "end_time": "2024-06-26T16:51:57.478588Z",
     "start_time": "2024-06-26T16:51:57.469581Z"
    }
   },
   "outputs": [],
   "source": [
    "# Create a dummy model using the mean value of the target property\n",
    "dummy_model = DummyRegressor(strategy=\"mean\")\n",
    "\n",
    "# Fit the model to the training data\n",
    "dummy_model.fit(x_train_scaled, y_train)\n",
    "\n",
    "# Make predictions on the testing data\n",
    "y_pred_dummy = dummy_model.predict(x_test_scaled)\n",
    "\n",
    "# Calculate the performance metrics and store them in a DataFrame\n",
    "results = pd.DataFrame({\n",
    "    \"Coefficients\": [np.array(dummy_model.constant_)],   # the regression coefficient\n",
    "    \"MSE\": mean_squared_error(y_test, y_pred_dummy),     # the mean squared error\n",
    "    \"R2\": r2_score(y_test, y_pred_dummy)                 # the coefficient of determination\n",
    "}, index=[\"Dummy\"])\n",
    "                            \n",
    "\n",
    "# Set the formatting style\n",
    "results.style.format(\n",
    "    {\n",
    "        \"MSE\": \"{:.3f}\",\n",
    "        \"R2\": \"{:.2f}\"\n",
    "    }\n",
    ")"
   ]
  },
  {
   "cell_type": "markdown",
   "metadata": {},
   "source": [
    "<div class=\"alert alert-block alert-success\"> \n",
    "    <b>Exercise</b>\n",
    "    Do we want to maximize or minimize the MSE value? What about R2?\n",
    "</div>"
   ]
  },
  {
   "cell_type": "markdown",
   "metadata": {},
   "source": [
    "### Linear Regression Model"
   ]
  },
  {
   "cell_type": "markdown",
   "metadata": {},
   "source": [
    "Let's next build and train a single-feature input linear regression model. We will use the ``LinearRegression`` class from the ``sklearn.linear_model`` module to create the model. "
   ]
  },
  {
   "cell_type": "code",
   "execution_count": null,
   "metadata": {},
   "outputs": [],
   "source": [
    "# Create a simple linear regression model\n",
    "simple_reg_model = LinearRegression()\n",
    "\n",
    "# Fit the model to the training data\n",
    "simple_reg_model.fit(x_train_scaled, y_train)\n",
    "\n",
    "# Make predictions on the test data\n",
    "y_pred_simple = simple_reg_model.predict(x_test_scaled)\n",
    "\n",
    "# Calculate the performance metrics\n",
    "simple_model_results = pd.DataFrame({\n",
    "    \"Coefficients\": [np.array(simple_reg_model.coef_)],   # the regression coefficient\n",
    "    \"MSE\": mean_squared_error(y_test, y_pred_simple),     # the mean squared error\n",
    "    \"R2\": r2_score(y_test, y_pred_simple)                 # the coefficient of determination\n",
    "}, index=[\"Simple-Linear-Regression\"])\n",
    "\n",
    "# Store the results into results DataFrame\n",
    "results = pd.concat([results, simple_model_results])\n",
    "results"
   ]
  },
  {
   "cell_type": "markdown",
   "metadata": {},
   "source": [
    "<div class=\"alert alert-block alert-success\"> \n",
    "    <b>Exercise</b>\n",
    "    Which model is best at predicting the value of logS?\n",
    "</div>"
   ]
  },
  {
   "cell_type": "markdown",
   "metadata": {},
   "source": [
    "### Visualizing model performance"
   ]
  },
  {
   "cell_type": "code",
   "execution_count": null,
   "metadata": {
    "ExecuteTime": {
     "end_time": "2024-06-26T16:52:00.069272Z",
     "start_time": "2024-06-26T16:51:59.817331Z"
    }
   },
   "outputs": [],
   "source": [
    "# Create a plot object \n",
    "fig, ax = plt.subplots(figsize=(5, 5))\n",
    "\n",
    "# Plot the test data\n",
    "ax.scatter(x_test_scaled, y_test, color='blue', label='Test Data')\n",
    "\n",
    "# Plot the simple linear regression model\n",
    "ax.plot(x_test_scaled, y_pred_simple, color='red', label='Simple Linear Regression')\n",
    "\n",
    "# Plot the baseline model\n",
    "ax.plot(x_test_scaled, y_pred_dummy, \"g--\", label=\"Dummy\")\n",
    "\n",
    "# Create the legends\n",
    "fig.legend(facecolor='white')\n",
    "\n",
    "# Show the plot\n",
    "plt.show()"
   ]
  },
  {
   "cell_type": "markdown",
   "metadata": {},
   "source": [
    "### Multiple Linear Regression Model"
   ]
  },
  {
   "cell_type": "markdown",
   "metadata": {},
   "source": [
    "Using the ``MolLogP`` feature with highest correlation with the target variable ``logS`` is a good starting point. The reason is that we knew beforehand that the CLOGP model would be a great predictor of solubility. However, we can improve our model by including other features that show some correlation with the target variable. This is where multiple linear regression comes in.\n",
    "\n",
    "Let's build a multiple linear regression model using all the features in our dataset. The process is very similar to building a single-feature linear regression model: Once again, we need to scale the data, train the model on the scaled training data using the ``fit`` method, and make predictions on the test data using the ``predict`` function."
   ]
  },
  {
   "cell_type": "markdown",
   "metadata": {},
   "source": [
    "<div class=\"alert alert-block alert-info\">\n",
    "    <b>Note</b>\n",
    "    Note the usage of <b>X</b> matrix instead of <b>x</b> vector in the <b>train_test_split</b> function, since now we want to use multiple features to predict the target variable.\n",
    "</div>"
   ]
  },
  {
   "cell_type": "code",
   "execution_count": null,
   "metadata": {
    "ExecuteTime": {
     "end_time": "2024-06-26T16:52:01.901353Z",
     "start_time": "2024-06-26T16:52:01.889727Z"
    }
   },
   "outputs": [],
   "source": [
    "# Split the data into training and testing sets (80% training, 20% testing)\n",
    "X_train, X_test, y_train, y_test = train_test_split(X, y, test_size=0.2, random_state=123, shuffle=True)\n",
    "\n",
    "# Create the standard scaler object\n",
    "scaler = StandardScaler()\n",
    "\n",
    "# Fit and transform the training feature matrix X_train\n",
    "X_train_scaled = scaler.fit_transform(X_train)\n",
    "\n",
    "# Transform the test feature matrix X_test\n",
    "X_test_scaled = scaler.transform(X_test)\n",
    "\n",
    "# Create a linear regression model\n",
    "multi_feature_model = LinearRegression()\n",
    "\n",
    "# Fit the model to the training data\n",
    "multi_feature_model.fit(X_train_scaled, y_train)\n",
    "\n",
    "# Make predictions on the test data\n",
    "y_pred_multi_feature = multi_feature_model.predict(X_test_scaled)\n",
    "\n",
    "# Calculate the performance metrics\n",
    "multi_feature_model_results = pd.DataFrame({\n",
    "    \"Coefficients\": [np.array(multi_feature_model.coef_)],       # the regression coefficients\n",
    "    \"MSE\": mean_squared_error(y_test, y_pred_multi_feature),     # the mean squared error\n",
    "    \"R2\": r2_score(y_test, y_pred_multi_feature)                 # the coefficient of determination\n",
    "}, index=[\"Multi-Linear-Regression\"])\n",
    "\n",
    "# Store the results into results DataFrame\n",
    "results = pd.concat([results, multi_feature_model_results])\n",
    "results"
   ]
  },
  {
   "cell_type": "markdown",
   "metadata": {},
   "source": [
    "<div class=\"alert alert-block alert-success\"> \n",
    "    <b>Exercise</b>\n",
    "    Which model is best at predicting the value of logS?\n",
    "</div>"
   ]
  },
  {
   "cell_type": "markdown",
   "metadata": {},
   "source": [
    "## Better Model Evaluation with Cross-Validation"
   ]
  },
  {
   "cell_type": "markdown",
   "metadata": {},
   "source": [
    "We evaluate the performance of our trained model on the test dataset. However, the measured performance depends on the quality of the data in the splits (train/validation/test).\n",
    "In order to ameliorate this issue, we can use a technique called $k$-fold cross-validation. The $k$-Fold cross-validation method splits the data into $k$ subsets,\n",
    "trains the data on the union of $k-1$ sets and measures the performance of the trained model on the $k$-th set, and repeats the process $k$ times to cover all subsets.\n",
    "The performance score is reported as the average score of $k$ experiments.\n",
    "\n",
    "<div style=\"text-align:center;\">\n",
    "  <img src=\"Images/K-fold_cross_validation_EN.svg\" style=\"display: block; margin: 0 auto; max-height:400px;\">\n",
    "</div>\n",
    "<br>\n",
    "<br>\n",
    "\n",
    "Here, we use the ``cross_val_score`` function from the ``sklearn.model_selection`` module to perform a 5-fold cross validation experiment."
   ]
  },
  {
   "cell_type": "code",
   "execution_count": null,
   "metadata": {},
   "outputs": [],
   "source": [
    "# Create a standard scaler object\n",
    "scaler = StandardScaler()\n",
    "\n",
    "# Create a linear regression model\n",
    "multi_feature_model = LinearRegression()\n",
    "\n",
    "# Create a pipeline object\n",
    "pipeline = make_pipeline(scaler, multi_feature_model)\n",
    "\n",
    "# Create a KFold object with 5 folds (defined using n_splits)\n",
    "kf = KFold(n_splits=5, shuffle=True, random_state=123)\n",
    "\n",
    "# Perform cross-validation\n",
    "cv_results = cross_val_score(pipeline, X, y, cv=kf, scoring=\"neg_mean_squared_error\")\n",
    "\n",
    "# Calculate the mean and standard deviation of the cross-validation results\n",
    "print(f\"CV Results Mean MSE: {-cv_results.mean():.5f}\")\n",
    "print(f\"CV Results STD MSE: {cv_results.std():.5f}\")"
   ]
  },
  {
   "cell_type": "markdown",
   "metadata": {},
   "source": [
    "<div class=\"alert alert-block alert-success\"> \n",
    "    <b>Bonus Exercise (if you have time)</b>\n",
    "    Copy and paste the above code into the cell below to perform a 5-fold cross-validation using a simple linear regression model and compare the results with the previous model evaluation\n",
    "    based on the R^2 metric.\n",
    "</div>"
   ]
  },
  {
   "cell_type": "code",
   "execution_count": null,
   "metadata": {},
   "outputs": [],
   "source": [
    "# perform a 5-fold cross-validation for a simple linear regression model\n"
   ]
  },
  {
   "cell_type": "markdown",
   "metadata": {},
   "source": [
    "### Solution to bonus exercise\n",
    "\n",
    "```python\n",
    "\n",
    "    from sklearn.model_selection import cross_val_score, KFold\n",
    "    from sklearn.pipeline import make_pipeline\n",
    "\n",
    "    # Create a standard scaler object\n",
    "    scaler = StandardScaler()\n",
    "\n",
    "    # Create a linear regression model\n",
    "    simple_linear_model = LinearRegression()\n",
    "\n",
    "    # Create a pipeline object\n",
    "    pipeline = make_pipeline(scaler, simple_linear_model)\n",
    "\n",
    "    # Create a KFold object\n",
    "    kf = KFold(n_splits=5, shuffle=True, random_state=123)\n",
    "\n",
    "    # Perform cross-validation   Note we use x instead of X as the input data\n",
    "    cv_results = cross_val_score(pipeline, x, y, cv=kf, scoring=\"r2\")\n",
    "\n",
    "    # Calculate the mean and standard deviation of the cross-validation results\n",
    "    print(f\"CV Results Mean MSE: {cv_results.mean():.5f}\")\n",
    "    print(f\"CV Results STD MSE: {cv_results.std():.5f}\")\n",
    "\n",
    "```"
   ]
  },
  {
   "cell_type": "markdown",
   "metadata": {},
   "source": [
    "## Is linear regression really the best model for this task? "
   ]
  },
  {
   "cell_type": "markdown",
   "metadata": {},
   "source": [
    "You have learned about the basics of linear regression,\n",
    "exploratory data analysis, feature engineering, and model evaluation. However, the process of building\n",
    "and evaluating multiple machine learning models to find the one best suited for your purposes can be time-consuming and repetitive.\n",
    "\n",
    "**PyCaret** is an open-source, low-code machine learning library written in Python that automates building \n",
    "the end-to-end machine learning processes. It provides a simple and efficient way to build, evaluate, and \n",
    "compare machine learning models. PyCaret is designed to help data scientists and machine learning engineers\n",
    "focus on the data and the problem at hand rather than the code.\n",
    "\n",
    "Let's see how we can use PyCaret to build and evaluate a wide range of machine learning models with just a\n",
    "few lines of code. First, we need to import the regression modules from PyCaret\n",
    "\n",
    "Before we move forward, we need to clean up the memory by restarting the kernel,\n",
    "import the necessary libraries for PyCaret and load the data into a Pandas\n",
    "DataFrame again."
   ]
  },
  {
   "cell_type": "code",
   "execution_count": null,
   "metadata": {},
   "outputs": [],
   "source": [
    "from IPython import get_ipython\n",
    "\n",
    "if get_ipython():\n",
    "    get_ipython().kernel.do_shutdown(restart=True)"
   ]
  },
  {
   "cell_type": "code",
   "execution_count": 1,
   "metadata": {
    "ExecuteTime": {
     "end_time": "2024-06-26T16:51:46.314577Z",
     "start_time": "2024-06-26T16:51:46.301095Z"
    }
   },
   "outputs": [],
   "source": [
    "import pandas as pd                 # for data manipulation\n",
    "import seaborn as sns               # for data visualization\n",
    "import matplotlib.pyplot as plt     # for data visualization\n",
    "\n",
    "from pycaret.regression import *    # for comparing the models"
   ]
  },
  {
   "cell_type": "code",
   "execution_count": 2,
   "metadata": {
    "ExecuteTime": {
     "end_time": "2024-06-26T16:49:13.095479Z",
     "start_time": "2024-06-26T16:49:13.088117Z"
    }
   },
   "outputs": [],
   "source": [
    "# Path to the preprocessed data file\n",
    "data_path = \"./data/solubility-processed.csv\"\n",
    "\n",
    "# Read the data into a DataFrame\n",
    "df = pd.read_csv(data_path,\n",
    "                 dtype={\"MolLogP\": \"float64\", \n",
    "                        \"MolWt\": \"float64\",\n",
    "                        \"NumRotatableBonds\": \"int\",\n",
    "                        \"AromaticProportion\": \"float\",\n",
    "                        \"logS\": \"float64\"\n",
    "                        })"
   ]
  },
  {
   "cell_type": "markdown",
   "metadata": {},
   "source": [
    "After importing PyCaret's regression modules, we can create a PyCaret experiment using the ``setup`` function.\n",
    "The ``setup`` function automatically preprocesses the data, splits it into training and testing sets, \n",
    "and sets up the environment for building and evaluating machine learning models."
   ]
  },
  {
   "cell_type": "code",
   "execution_count": 3,
   "metadata": {},
   "outputs": [
    {
     "data": {
      "text/html": [
       "<style type=\"text/css\">\n",
       "#T_47a54_row8_col1 {\n",
       "  background-color: lightgreen;\n",
       "}\n",
       "</style>\n",
       "<table id=\"T_47a54\">\n",
       "  <thead>\n",
       "    <tr>\n",
       "      <th class=\"blank level0\" >&nbsp;</th>\n",
       "      <th id=\"T_47a54_level0_col0\" class=\"col_heading level0 col0\" >Description</th>\n",
       "      <th id=\"T_47a54_level0_col1\" class=\"col_heading level0 col1\" >Value</th>\n",
       "    </tr>\n",
       "  </thead>\n",
       "  <tbody>\n",
       "    <tr>\n",
       "      <th id=\"T_47a54_level0_row0\" class=\"row_heading level0 row0\" >0</th>\n",
       "      <td id=\"T_47a54_row0_col0\" class=\"data row0 col0\" >Session id</td>\n",
       "      <td id=\"T_47a54_row0_col1\" class=\"data row0 col1\" >123</td>\n",
       "    </tr>\n",
       "    <tr>\n",
       "      <th id=\"T_47a54_level0_row1\" class=\"row_heading level0 row1\" >1</th>\n",
       "      <td id=\"T_47a54_row1_col0\" class=\"data row1 col0\" >Target</td>\n",
       "      <td id=\"T_47a54_row1_col1\" class=\"data row1 col1\" >logS</td>\n",
       "    </tr>\n",
       "    <tr>\n",
       "      <th id=\"T_47a54_level0_row2\" class=\"row_heading level0 row2\" >2</th>\n",
       "      <td id=\"T_47a54_row2_col0\" class=\"data row2 col0\" >Target type</td>\n",
       "      <td id=\"T_47a54_row2_col1\" class=\"data row2 col1\" >Regression</td>\n",
       "    </tr>\n",
       "    <tr>\n",
       "      <th id=\"T_47a54_level0_row3\" class=\"row_heading level0 row3\" >3</th>\n",
       "      <td id=\"T_47a54_row3_col0\" class=\"data row3 col0\" >Original data shape</td>\n",
       "      <td id=\"T_47a54_row3_col1\" class=\"data row3 col1\" >(1144, 5)</td>\n",
       "    </tr>\n",
       "    <tr>\n",
       "      <th id=\"T_47a54_level0_row4\" class=\"row_heading level0 row4\" >4</th>\n",
       "      <td id=\"T_47a54_row4_col0\" class=\"data row4 col0\" >Transformed data shape</td>\n",
       "      <td id=\"T_47a54_row4_col1\" class=\"data row4 col1\" >(1144, 5)</td>\n",
       "    </tr>\n",
       "    <tr>\n",
       "      <th id=\"T_47a54_level0_row5\" class=\"row_heading level0 row5\" >5</th>\n",
       "      <td id=\"T_47a54_row5_col0\" class=\"data row5 col0\" >Transformed train set shape</td>\n",
       "      <td id=\"T_47a54_row5_col1\" class=\"data row5 col1\" >(800, 5)</td>\n",
       "    </tr>\n",
       "    <tr>\n",
       "      <th id=\"T_47a54_level0_row6\" class=\"row_heading level0 row6\" >6</th>\n",
       "      <td id=\"T_47a54_row6_col0\" class=\"data row6 col0\" >Transformed test set shape</td>\n",
       "      <td id=\"T_47a54_row6_col1\" class=\"data row6 col1\" >(344, 5)</td>\n",
       "    </tr>\n",
       "    <tr>\n",
       "      <th id=\"T_47a54_level0_row7\" class=\"row_heading level0 row7\" >7</th>\n",
       "      <td id=\"T_47a54_row7_col0\" class=\"data row7 col0\" >Numeric features</td>\n",
       "      <td id=\"T_47a54_row7_col1\" class=\"data row7 col1\" >4</td>\n",
       "    </tr>\n",
       "    <tr>\n",
       "      <th id=\"T_47a54_level0_row8\" class=\"row_heading level0 row8\" >8</th>\n",
       "      <td id=\"T_47a54_row8_col0\" class=\"data row8 col0\" >Preprocess</td>\n",
       "      <td id=\"T_47a54_row8_col1\" class=\"data row8 col1\" >True</td>\n",
       "    </tr>\n",
       "    <tr>\n",
       "      <th id=\"T_47a54_level0_row9\" class=\"row_heading level0 row9\" >9</th>\n",
       "      <td id=\"T_47a54_row9_col0\" class=\"data row9 col0\" >Imputation type</td>\n",
       "      <td id=\"T_47a54_row9_col1\" class=\"data row9 col1\" >simple</td>\n",
       "    </tr>\n",
       "    <tr>\n",
       "      <th id=\"T_47a54_level0_row10\" class=\"row_heading level0 row10\" >10</th>\n",
       "      <td id=\"T_47a54_row10_col0\" class=\"data row10 col0\" >Numeric imputation</td>\n",
       "      <td id=\"T_47a54_row10_col1\" class=\"data row10 col1\" >mean</td>\n",
       "    </tr>\n",
       "    <tr>\n",
       "      <th id=\"T_47a54_level0_row11\" class=\"row_heading level0 row11\" >11</th>\n",
       "      <td id=\"T_47a54_row11_col0\" class=\"data row11 col0\" >Categorical imputation</td>\n",
       "      <td id=\"T_47a54_row11_col1\" class=\"data row11 col1\" >mode</td>\n",
       "    </tr>\n",
       "    <tr>\n",
       "      <th id=\"T_47a54_level0_row12\" class=\"row_heading level0 row12\" >12</th>\n",
       "      <td id=\"T_47a54_row12_col0\" class=\"data row12 col0\" >Fold Generator</td>\n",
       "      <td id=\"T_47a54_row12_col1\" class=\"data row12 col1\" >KFold</td>\n",
       "    </tr>\n",
       "    <tr>\n",
       "      <th id=\"T_47a54_level0_row13\" class=\"row_heading level0 row13\" >13</th>\n",
       "      <td id=\"T_47a54_row13_col0\" class=\"data row13 col0\" >Fold Number</td>\n",
       "      <td id=\"T_47a54_row13_col1\" class=\"data row13 col1\" >5</td>\n",
       "    </tr>\n",
       "    <tr>\n",
       "      <th id=\"T_47a54_level0_row14\" class=\"row_heading level0 row14\" >14</th>\n",
       "      <td id=\"T_47a54_row14_col0\" class=\"data row14 col0\" >CPU Jobs</td>\n",
       "      <td id=\"T_47a54_row14_col1\" class=\"data row14 col1\" >1</td>\n",
       "    </tr>\n",
       "    <tr>\n",
       "      <th id=\"T_47a54_level0_row15\" class=\"row_heading level0 row15\" >15</th>\n",
       "      <td id=\"T_47a54_row15_col0\" class=\"data row15 col0\" >Use GPU</td>\n",
       "      <td id=\"T_47a54_row15_col1\" class=\"data row15 col1\" >False</td>\n",
       "    </tr>\n",
       "    <tr>\n",
       "      <th id=\"T_47a54_level0_row16\" class=\"row_heading level0 row16\" >16</th>\n",
       "      <td id=\"T_47a54_row16_col0\" class=\"data row16 col0\" >Log Experiment</td>\n",
       "      <td id=\"T_47a54_row16_col1\" class=\"data row16 col1\" >False</td>\n",
       "    </tr>\n",
       "    <tr>\n",
       "      <th id=\"T_47a54_level0_row17\" class=\"row_heading level0 row17\" >17</th>\n",
       "      <td id=\"T_47a54_row17_col0\" class=\"data row17 col0\" >Experiment Name</td>\n",
       "      <td id=\"T_47a54_row17_col1\" class=\"data row17 col1\" >reg-default-name</td>\n",
       "    </tr>\n",
       "    <tr>\n",
       "      <th id=\"T_47a54_level0_row18\" class=\"row_heading level0 row18\" >18</th>\n",
       "      <td id=\"T_47a54_row18_col0\" class=\"data row18 col0\" >USI</td>\n",
       "      <td id=\"T_47a54_row18_col1\" class=\"data row18 col1\" >2e68</td>\n",
       "    </tr>\n",
       "  </tbody>\n",
       "</table>\n"
      ],
      "text/plain": [
       "<pandas.io.formats.style.Styler at 0x7f3b869952d0>"
      ]
     },
     "metadata": {},
     "output_type": "display_data"
    }
   ],
   "source": [
    "s = setup(data = df, target = 'logS', session_id = 123, fold = 5, n_jobs = 1)"
   ]
  },
  {
   "cell_type": "markdown",
   "metadata": {},
   "source": [
    "Now, we can compare the performance of different machine learning models using the\n",
    "``compare_models`` function. The function trains and evaluates a wide range of \n",
    "machine learning models on the input data and displays a table of the models' \n",
    "performance metrics."
   ]
  },
  {
   "cell_type": "code",
   "execution_count": 4,
   "metadata": {
    "tags": []
   },
   "outputs": [
    {
     "data": {
      "text/html": [],
      "text/plain": [
       "<IPython.core.display.HTML object>"
      ]
     },
     "metadata": {},
     "output_type": "display_data"
    },
    {
     "data": {
      "text/html": [
       "<style type=\"text/css\">\n",
       "#T_9fddf th {\n",
       "  text-align: left;\n",
       "}\n",
       "#T_9fddf_row0_col0, #T_9fddf_row1_col0, #T_9fddf_row1_col1, #T_9fddf_row1_col2, #T_9fddf_row1_col3, #T_9fddf_row1_col4, #T_9fddf_row1_col5, #T_9fddf_row1_col6, #T_9fddf_row2_col0, #T_9fddf_row2_col1, #T_9fddf_row2_col2, #T_9fddf_row2_col3, #T_9fddf_row2_col4, #T_9fddf_row2_col5, #T_9fddf_row2_col6, #T_9fddf_row3_col0, #T_9fddf_row3_col1, #T_9fddf_row3_col2, #T_9fddf_row3_col3, #T_9fddf_row3_col4, #T_9fddf_row3_col5, #T_9fddf_row3_col6, #T_9fddf_row4_col0, #T_9fddf_row4_col1, #T_9fddf_row4_col2, #T_9fddf_row4_col3, #T_9fddf_row4_col4, #T_9fddf_row4_col5, #T_9fddf_row4_col6, #T_9fddf_row5_col0, #T_9fddf_row5_col1, #T_9fddf_row5_col2, #T_9fddf_row5_col3, #T_9fddf_row5_col4, #T_9fddf_row5_col5, #T_9fddf_row5_col6, #T_9fddf_row6_col0, #T_9fddf_row6_col1, #T_9fddf_row6_col2, #T_9fddf_row6_col3, #T_9fddf_row6_col4, #T_9fddf_row6_col5, #T_9fddf_row6_col6, #T_9fddf_row7_col0, #T_9fddf_row7_col1, #T_9fddf_row7_col2, #T_9fddf_row7_col3, #T_9fddf_row7_col4, #T_9fddf_row7_col5, #T_9fddf_row7_col6, #T_9fddf_row8_col0, #T_9fddf_row8_col1, #T_9fddf_row8_col2, #T_9fddf_row8_col3, #T_9fddf_row8_col4, #T_9fddf_row8_col5, #T_9fddf_row8_col6, #T_9fddf_row9_col0, #T_9fddf_row9_col1, #T_9fddf_row9_col2, #T_9fddf_row9_col3, #T_9fddf_row9_col4, #T_9fddf_row9_col5, #T_9fddf_row9_col6, #T_9fddf_row10_col0, #T_9fddf_row10_col1, #T_9fddf_row10_col2, #T_9fddf_row10_col3, #T_9fddf_row10_col4, #T_9fddf_row10_col5, #T_9fddf_row10_col6, #T_9fddf_row11_col0, #T_9fddf_row11_col1, #T_9fddf_row11_col2, #T_9fddf_row11_col3, #T_9fddf_row11_col4, #T_9fddf_row11_col5, #T_9fddf_row11_col6, #T_9fddf_row12_col0, #T_9fddf_row12_col1, #T_9fddf_row12_col2, #T_9fddf_row12_col3, #T_9fddf_row12_col4, #T_9fddf_row12_col5, #T_9fddf_row12_col6, #T_9fddf_row13_col0, #T_9fddf_row13_col1, #T_9fddf_row13_col2, #T_9fddf_row13_col3, #T_9fddf_row13_col4, #T_9fddf_row13_col5, #T_9fddf_row13_col6, #T_9fddf_row14_col0, #T_9fddf_row14_col1, #T_9fddf_row14_col2, #T_9fddf_row14_col3, #T_9fddf_row14_col4, #T_9fddf_row14_col5, #T_9fddf_row14_col6, #T_9fddf_row15_col0, #T_9fddf_row15_col1, #T_9fddf_row15_col2, #T_9fddf_row15_col3, #T_9fddf_row15_col4, #T_9fddf_row15_col5, #T_9fddf_row15_col6, #T_9fddf_row16_col0, #T_9fddf_row16_col1, #T_9fddf_row16_col2, #T_9fddf_row16_col3, #T_9fddf_row16_col4, #T_9fddf_row16_col5, #T_9fddf_row16_col6, #T_9fddf_row17_col0, #T_9fddf_row17_col1, #T_9fddf_row17_col2, #T_9fddf_row17_col3, #T_9fddf_row17_col4, #T_9fddf_row17_col5, #T_9fddf_row17_col6 {\n",
       "  text-align: left;\n",
       "}\n",
       "#T_9fddf_row0_col1, #T_9fddf_row0_col2, #T_9fddf_row0_col3, #T_9fddf_row0_col4, #T_9fddf_row0_col5, #T_9fddf_row0_col6 {\n",
       "  text-align: left;\n",
       "  background-color: yellow;\n",
       "}\n",
       "#T_9fddf_row0_col7, #T_9fddf_row1_col7, #T_9fddf_row2_col7, #T_9fddf_row3_col7, #T_9fddf_row4_col7, #T_9fddf_row5_col7, #T_9fddf_row6_col7, #T_9fddf_row7_col7, #T_9fddf_row8_col7, #T_9fddf_row9_col7, #T_9fddf_row10_col7, #T_9fddf_row11_col7, #T_9fddf_row12_col7, #T_9fddf_row13_col7, #T_9fddf_row14_col7, #T_9fddf_row15_col7, #T_9fddf_row16_col7 {\n",
       "  text-align: left;\n",
       "  background-color: lightgrey;\n",
       "}\n",
       "#T_9fddf_row17_col7 {\n",
       "  text-align: left;\n",
       "  background-color: yellow;\n",
       "  background-color: lightgrey;\n",
       "}\n",
       "</style>\n",
       "<table id=\"T_9fddf\">\n",
       "  <thead>\n",
       "    <tr>\n",
       "      <th class=\"blank level0\" >&nbsp;</th>\n",
       "      <th id=\"T_9fddf_level0_col0\" class=\"col_heading level0 col0\" >Model</th>\n",
       "      <th id=\"T_9fddf_level0_col1\" class=\"col_heading level0 col1\" >MAE</th>\n",
       "      <th id=\"T_9fddf_level0_col2\" class=\"col_heading level0 col2\" >MSE</th>\n",
       "      <th id=\"T_9fddf_level0_col3\" class=\"col_heading level0 col3\" >RMSE</th>\n",
       "      <th id=\"T_9fddf_level0_col4\" class=\"col_heading level0 col4\" >R2</th>\n",
       "      <th id=\"T_9fddf_level0_col5\" class=\"col_heading level0 col5\" >RMSLE</th>\n",
       "      <th id=\"T_9fddf_level0_col6\" class=\"col_heading level0 col6\" >MAPE</th>\n",
       "      <th id=\"T_9fddf_level0_col7\" class=\"col_heading level0 col7\" >TT (Sec)</th>\n",
       "    </tr>\n",
       "  </thead>\n",
       "  <tbody>\n",
       "    <tr>\n",
       "      <th id=\"T_9fddf_level0_row0\" class=\"row_heading level0 row0\" >et</th>\n",
       "      <td id=\"T_9fddf_row0_col0\" class=\"data row0 col0\" >Extra Trees Regressor</td>\n",
       "      <td id=\"T_9fddf_row0_col1\" class=\"data row0 col1\" >0.5429</td>\n",
       "      <td id=\"T_9fddf_row0_col2\" class=\"data row0 col2\" >0.5571</td>\n",
       "      <td id=\"T_9fddf_row0_col3\" class=\"data row0 col3\" >0.7448</td>\n",
       "      <td id=\"T_9fddf_row0_col4\" class=\"data row0 col4\" >0.8695</td>\n",
       "      <td id=\"T_9fddf_row0_col5\" class=\"data row0 col5\" >0.2077</td>\n",
       "      <td id=\"T_9fddf_row0_col6\" class=\"data row0 col6\" >0.6836</td>\n",
       "      <td id=\"T_9fddf_row0_col7\" class=\"data row0 col7\" >0.1960</td>\n",
       "    </tr>\n",
       "    <tr>\n",
       "      <th id=\"T_9fddf_level0_row1\" class=\"row_heading level0 row1\" >rf</th>\n",
       "      <td id=\"T_9fddf_row1_col0\" class=\"data row1 col0\" >Random Forest Regressor</td>\n",
       "      <td id=\"T_9fddf_row1_col1\" class=\"data row1 col1\" >0.5556</td>\n",
       "      <td id=\"T_9fddf_row1_col2\" class=\"data row1 col2\" >0.5688</td>\n",
       "      <td id=\"T_9fddf_row1_col3\" class=\"data row1 col3\" >0.7524</td>\n",
       "      <td id=\"T_9fddf_row1_col4\" class=\"data row1 col4\" >0.8665</td>\n",
       "      <td id=\"T_9fddf_row1_col5\" class=\"data row1 col5\" >0.2124</td>\n",
       "      <td id=\"T_9fddf_row1_col6\" class=\"data row1 col6\" >0.7420</td>\n",
       "      <td id=\"T_9fddf_row1_col7\" class=\"data row1 col7\" >0.2960</td>\n",
       "    </tr>\n",
       "    <tr>\n",
       "      <th id=\"T_9fddf_level0_row2\" class=\"row_heading level0 row2\" >lightgbm</th>\n",
       "      <td id=\"T_9fddf_row2_col0\" class=\"data row2 col0\" >Light Gradient Boosting Machine</td>\n",
       "      <td id=\"T_9fddf_row2_col1\" class=\"data row2 col1\" >0.5770</td>\n",
       "      <td id=\"T_9fddf_row2_col2\" class=\"data row2 col2\" >0.5934</td>\n",
       "      <td id=\"T_9fddf_row2_col3\" class=\"data row2 col3\" >0.7669</td>\n",
       "      <td id=\"T_9fddf_row2_col4\" class=\"data row2 col4\" >0.8611</td>\n",
       "      <td id=\"T_9fddf_row2_col5\" class=\"data row2 col5\" >0.2163</td>\n",
       "      <td id=\"T_9fddf_row2_col6\" class=\"data row2 col6\" >0.7198</td>\n",
       "      <td id=\"T_9fddf_row2_col7\" class=\"data row2 col7\" >0.0540</td>\n",
       "    </tr>\n",
       "    <tr>\n",
       "      <th id=\"T_9fddf_level0_row3\" class=\"row_heading level0 row3\" >gbr</th>\n",
       "      <td id=\"T_9fddf_row3_col0\" class=\"data row3 col0\" >Gradient Boosting Regressor</td>\n",
       "      <td id=\"T_9fddf_row3_col1\" class=\"data row3 col1\" >0.5956</td>\n",
       "      <td id=\"T_9fddf_row3_col2\" class=\"data row3 col2\" >0.6182</td>\n",
       "      <td id=\"T_9fddf_row3_col3\" class=\"data row3 col3\" >0.7835</td>\n",
       "      <td id=\"T_9fddf_row3_col4\" class=\"data row3 col4\" >0.8559</td>\n",
       "      <td id=\"T_9fddf_row3_col5\" class=\"data row3 col5\" >0.2178</td>\n",
       "      <td id=\"T_9fddf_row3_col6\" class=\"data row3 col6\" >0.7071</td>\n",
       "      <td id=\"T_9fddf_row3_col7\" class=\"data row3 col7\" >0.1300</td>\n",
       "    </tr>\n",
       "    <tr>\n",
       "      <th id=\"T_9fddf_level0_row4\" class=\"row_heading level0 row4\" >ada</th>\n",
       "      <td id=\"T_9fddf_row4_col0\" class=\"data row4 col0\" >AdaBoost Regressor</td>\n",
       "      <td id=\"T_9fddf_row4_col1\" class=\"data row4 col1\" >0.6847</td>\n",
       "      <td id=\"T_9fddf_row4_col2\" class=\"data row4 col2\" >0.7966</td>\n",
       "      <td id=\"T_9fddf_row4_col3\" class=\"data row4 col3\" >0.8907</td>\n",
       "      <td id=\"T_9fddf_row4_col4\" class=\"data row4 col4\" >0.8148</td>\n",
       "      <td id=\"T_9fddf_row4_col5\" class=\"data row4 col5\" >0.2519</td>\n",
       "      <td id=\"T_9fddf_row4_col6\" class=\"data row4 col6\" >0.7542</td>\n",
       "      <td id=\"T_9fddf_row4_col7\" class=\"data row4 col7\" >0.1100</td>\n",
       "    </tr>\n",
       "    <tr>\n",
       "      <th id=\"T_9fddf_level0_row5\" class=\"row_heading level0 row5\" >dt</th>\n",
       "      <td id=\"T_9fddf_row5_col0\" class=\"data row5 col0\" >Decision Tree Regressor</td>\n",
       "      <td id=\"T_9fddf_row5_col1\" class=\"data row5 col1\" >0.6997</td>\n",
       "      <td id=\"T_9fddf_row5_col2\" class=\"data row5 col2\" >0.9344</td>\n",
       "      <td id=\"T_9fddf_row5_col3\" class=\"data row5 col3\" >0.9660</td>\n",
       "      <td id=\"T_9fddf_row5_col4\" class=\"data row5 col4\" >0.7797</td>\n",
       "      <td id=\"T_9fddf_row5_col5\" class=\"data row5 col5\" >0.2553</td>\n",
       "      <td id=\"T_9fddf_row5_col6\" class=\"data row5 col6\" >0.8243</td>\n",
       "      <td id=\"T_9fddf_row5_col7\" class=\"data row5 col7\" >0.0260</td>\n",
       "    </tr>\n",
       "    <tr>\n",
       "      <th id=\"T_9fddf_level0_row6\" class=\"row_heading level0 row6\" >lar</th>\n",
       "      <td id=\"T_9fddf_row6_col0\" class=\"data row6 col0\" >Least Angle Regression</td>\n",
       "      <td id=\"T_9fddf_row6_col1\" class=\"data row6 col1\" >0.7637</td>\n",
       "      <td id=\"T_9fddf_row6_col2\" class=\"data row6 col2\" >0.9777</td>\n",
       "      <td id=\"T_9fddf_row6_col3\" class=\"data row6 col3\" >0.9876</td>\n",
       "      <td id=\"T_9fddf_row6_col4\" class=\"data row6 col4\" >0.7716</td>\n",
       "      <td id=\"T_9fddf_row6_col5\" class=\"data row6 col5\" >0.2824</td>\n",
       "      <td id=\"T_9fddf_row6_col6\" class=\"data row6 col6\" >0.8134</td>\n",
       "      <td id=\"T_9fddf_row6_col7\" class=\"data row6 col7\" >0.0220</td>\n",
       "    </tr>\n",
       "    <tr>\n",
       "      <th id=\"T_9fddf_level0_row7\" class=\"row_heading level0 row7\" >br</th>\n",
       "      <td id=\"T_9fddf_row7_col0\" class=\"data row7 col0\" >Bayesian Ridge</td>\n",
       "      <td id=\"T_9fddf_row7_col1\" class=\"data row7 col1\" >0.7644</td>\n",
       "      <td id=\"T_9fddf_row7_col2\" class=\"data row7 col2\" >0.9778</td>\n",
       "      <td id=\"T_9fddf_row7_col3\" class=\"data row7 col3\" >0.9876</td>\n",
       "      <td id=\"T_9fddf_row7_col4\" class=\"data row7 col4\" >0.7716</td>\n",
       "      <td id=\"T_9fddf_row7_col5\" class=\"data row7 col5\" >0.2822</td>\n",
       "      <td id=\"T_9fddf_row7_col6\" class=\"data row7 col6\" >0.8139</td>\n",
       "      <td id=\"T_9fddf_row7_col7\" class=\"data row7 col7\" >0.0200</td>\n",
       "    </tr>\n",
       "    <tr>\n",
       "      <th id=\"T_9fddf_level0_row8\" class=\"row_heading level0 row8\" >ridge</th>\n",
       "      <td id=\"T_9fddf_row8_col0\" class=\"data row8 col0\" >Ridge Regression</td>\n",
       "      <td id=\"T_9fddf_row8_col1\" class=\"data row8 col1\" >0.7638</td>\n",
       "      <td id=\"T_9fddf_row8_col2\" class=\"data row8 col2\" >0.9776</td>\n",
       "      <td id=\"T_9fddf_row8_col3\" class=\"data row8 col3\" >0.9876</td>\n",
       "      <td id=\"T_9fddf_row8_col4\" class=\"data row8 col4\" >0.7716</td>\n",
       "      <td id=\"T_9fddf_row8_col5\" class=\"data row8 col5\" >0.2823</td>\n",
       "      <td id=\"T_9fddf_row8_col6\" class=\"data row8 col6\" >0.8135</td>\n",
       "      <td id=\"T_9fddf_row8_col7\" class=\"data row8 col7\" >0.0200</td>\n",
       "    </tr>\n",
       "    <tr>\n",
       "      <th id=\"T_9fddf_level0_row9\" class=\"row_heading level0 row9\" >lr</th>\n",
       "      <td id=\"T_9fddf_row9_col0\" class=\"data row9 col0\" >Linear Regression</td>\n",
       "      <td id=\"T_9fddf_row9_col1\" class=\"data row9 col1\" >0.7637</td>\n",
       "      <td id=\"T_9fddf_row9_col2\" class=\"data row9 col2\" >0.9777</td>\n",
       "      <td id=\"T_9fddf_row9_col3\" class=\"data row9 col3\" >0.9876</td>\n",
       "      <td id=\"T_9fddf_row9_col4\" class=\"data row9 col4\" >0.7716</td>\n",
       "      <td id=\"T_9fddf_row9_col5\" class=\"data row9 col5\" >0.2824</td>\n",
       "      <td id=\"T_9fddf_row9_col6\" class=\"data row9 col6\" >0.8134</td>\n",
       "      <td id=\"T_9fddf_row9_col7\" class=\"data row9 col7\" >0.0340</td>\n",
       "    </tr>\n",
       "    <tr>\n",
       "      <th id=\"T_9fddf_level0_row10\" class=\"row_heading level0 row10\" >huber</th>\n",
       "      <td id=\"T_9fddf_row10_col0\" class=\"data row10 col0\" >Huber Regressor</td>\n",
       "      <td id=\"T_9fddf_row10_col1\" class=\"data row10 col1\" >0.7634</td>\n",
       "      <td id=\"T_9fddf_row10_col2\" class=\"data row10 col2\" >0.9850</td>\n",
       "      <td id=\"T_9fddf_row10_col3\" class=\"data row10 col3\" >0.9914</td>\n",
       "      <td id=\"T_9fddf_row10_col4\" class=\"data row10 col4\" >0.7697</td>\n",
       "      <td id=\"T_9fddf_row10_col5\" class=\"data row10 col5\" >0.2810</td>\n",
       "      <td id=\"T_9fddf_row10_col6\" class=\"data row10 col6\" >0.7657</td>\n",
       "      <td id=\"T_9fddf_row10_col7\" class=\"data row10 col7\" >0.0420</td>\n",
       "    </tr>\n",
       "    <tr>\n",
       "      <th id=\"T_9fddf_level0_row11\" class=\"row_heading level0 row11\" >en</th>\n",
       "      <td id=\"T_9fddf_row11_col0\" class=\"data row11 col0\" >Elastic Net</td>\n",
       "      <td id=\"T_9fddf_row11_col1\" class=\"data row11 col1\" >0.8508</td>\n",
       "      <td id=\"T_9fddf_row11_col2\" class=\"data row11 col2\" >1.2050</td>\n",
       "      <td id=\"T_9fddf_row11_col3\" class=\"data row11 col3\" >1.0946</td>\n",
       "      <td id=\"T_9fddf_row11_col4\" class=\"data row11 col4\" >0.7205</td>\n",
       "      <td id=\"T_9fddf_row11_col5\" class=\"data row11 col5\" >0.2922</td>\n",
       "      <td id=\"T_9fddf_row11_col6\" class=\"data row11 col6\" >1.0009</td>\n",
       "      <td id=\"T_9fddf_row11_col7\" class=\"data row11 col7\" >0.0200</td>\n",
       "    </tr>\n",
       "    <tr>\n",
       "      <th id=\"T_9fddf_level0_row12\" class=\"row_heading level0 row12\" >lasso</th>\n",
       "      <td id=\"T_9fddf_row12_col0\" class=\"data row12 col0\" >Lasso Regression</td>\n",
       "      <td id=\"T_9fddf_row12_col1\" class=\"data row12 col1\" >0.9042</td>\n",
       "      <td id=\"T_9fddf_row12_col2\" class=\"data row12 col2\" >1.3790</td>\n",
       "      <td id=\"T_9fddf_row12_col3\" class=\"data row12 col3\" >1.1695</td>\n",
       "      <td id=\"T_9fddf_row12_col4\" class=\"data row12 col4\" >0.6809</td>\n",
       "      <td id=\"T_9fddf_row12_col5\" class=\"data row12 col5\" >0.3005</td>\n",
       "      <td id=\"T_9fddf_row12_col6\" class=\"data row12 col6\" >1.1024</td>\n",
       "      <td id=\"T_9fddf_row12_col7\" class=\"data row12 col7\" >0.0220</td>\n",
       "    </tr>\n",
       "    <tr>\n",
       "      <th id=\"T_9fddf_level0_row13\" class=\"row_heading level0 row13\" >llar</th>\n",
       "      <td id=\"T_9fddf_row13_col0\" class=\"data row13 col0\" >Lasso Least Angle Regression</td>\n",
       "      <td id=\"T_9fddf_row13_col1\" class=\"data row13 col1\" >0.9042</td>\n",
       "      <td id=\"T_9fddf_row13_col2\" class=\"data row13 col2\" >1.3790</td>\n",
       "      <td id=\"T_9fddf_row13_col3\" class=\"data row13 col3\" >1.1695</td>\n",
       "      <td id=\"T_9fddf_row13_col4\" class=\"data row13 col4\" >0.6809</td>\n",
       "      <td id=\"T_9fddf_row13_col5\" class=\"data row13 col5\" >0.3005</td>\n",
       "      <td id=\"T_9fddf_row13_col6\" class=\"data row13 col6\" >1.1024</td>\n",
       "      <td id=\"T_9fddf_row13_col7\" class=\"data row13 col7\" >0.0240</td>\n",
       "    </tr>\n",
       "    <tr>\n",
       "      <th id=\"T_9fddf_level0_row14\" class=\"row_heading level0 row14\" >knn</th>\n",
       "      <td id=\"T_9fddf_row14_col0\" class=\"data row14 col0\" >K Neighbors Regressor</td>\n",
       "      <td id=\"T_9fddf_row14_col1\" class=\"data row14 col1\" >0.9921</td>\n",
       "      <td id=\"T_9fddf_row14_col2\" class=\"data row14 col2\" >1.8420</td>\n",
       "      <td id=\"T_9fddf_row14_col3\" class=\"data row14 col3\" >1.3495</td>\n",
       "      <td id=\"T_9fddf_row14_col4\" class=\"data row14 col4\" >0.5727</td>\n",
       "      <td id=\"T_9fddf_row14_col5\" class=\"data row14 col5\" >0.3399</td>\n",
       "      <td id=\"T_9fddf_row14_col6\" class=\"data row14 col6\" >1.0520</td>\n",
       "      <td id=\"T_9fddf_row14_col7\" class=\"data row14 col7\" >0.0220</td>\n",
       "    </tr>\n",
       "    <tr>\n",
       "      <th id=\"T_9fddf_level0_row15\" class=\"row_heading level0 row15\" >omp</th>\n",
       "      <td id=\"T_9fddf_row15_col0\" class=\"data row15 col0\" >Orthogonal Matching Pursuit</td>\n",
       "      <td id=\"T_9fddf_row15_col1\" class=\"data row15 col1\" >1.2001</td>\n",
       "      <td id=\"T_9fddf_row15_col2\" class=\"data row15 col2\" >2.5348</td>\n",
       "      <td id=\"T_9fddf_row15_col3\" class=\"data row15 col3\" >1.5855</td>\n",
       "      <td id=\"T_9fddf_row15_col4\" class=\"data row15 col4\" >0.4125</td>\n",
       "      <td id=\"T_9fddf_row15_col5\" class=\"data row15 col5\" >0.3853</td>\n",
       "      <td id=\"T_9fddf_row15_col6\" class=\"data row15 col6\" >1.5143</td>\n",
       "      <td id=\"T_9fddf_row15_col7\" class=\"data row15 col7\" >0.0200</td>\n",
       "    </tr>\n",
       "    <tr>\n",
       "      <th id=\"T_9fddf_level0_row16\" class=\"row_heading level0 row16\" >par</th>\n",
       "      <td id=\"T_9fddf_row16_col0\" class=\"data row16 col0\" >Passive Aggressive Regressor</td>\n",
       "      <td id=\"T_9fddf_row16_col1\" class=\"data row16 col1\" >1.2189</td>\n",
       "      <td id=\"T_9fddf_row16_col2\" class=\"data row16 col2\" >2.6073</td>\n",
       "      <td id=\"T_9fddf_row16_col3\" class=\"data row16 col3\" >1.4955</td>\n",
       "      <td id=\"T_9fddf_row16_col4\" class=\"data row16 col4\" >0.3599</td>\n",
       "      <td id=\"T_9fddf_row16_col5\" class=\"data row16 col5\" >0.3738</td>\n",
       "      <td id=\"T_9fddf_row16_col6\" class=\"data row16 col6\" >1.1225</td>\n",
       "      <td id=\"T_9fddf_row16_col7\" class=\"data row16 col7\" >0.0240</td>\n",
       "    </tr>\n",
       "    <tr>\n",
       "      <th id=\"T_9fddf_level0_row17\" class=\"row_heading level0 row17\" >dummy</th>\n",
       "      <td id=\"T_9fddf_row17_col0\" class=\"data row17 col0\" >Dummy Regressor</td>\n",
       "      <td id=\"T_9fddf_row17_col1\" class=\"data row17 col1\" >1.6404</td>\n",
       "      <td id=\"T_9fddf_row17_col2\" class=\"data row17 col2\" >4.3222</td>\n",
       "      <td id=\"T_9fddf_row17_col3\" class=\"data row17 col3\" >2.0764</td>\n",
       "      <td id=\"T_9fddf_row17_col4\" class=\"data row17 col4\" >-0.0069</td>\n",
       "      <td id=\"T_9fddf_row17_col5\" class=\"data row17 col5\" >0.5228</td>\n",
       "      <td id=\"T_9fddf_row17_col6\" class=\"data row17 col6\" >2.4352</td>\n",
       "      <td id=\"T_9fddf_row17_col7\" class=\"data row17 col7\" >0.0140</td>\n",
       "    </tr>\n",
       "  </tbody>\n",
       "</table>\n"
      ],
      "text/plain": [
       "<pandas.io.formats.style.Styler at 0x7f3b8567b280>"
      ]
     },
     "metadata": {},
     "output_type": "display_data"
    },
    {
     "data": {
      "text/html": [],
      "text/plain": [
       "<IPython.core.display.HTML object>"
      ]
     },
     "metadata": {},
     "output_type": "display_data"
    }
   ],
   "source": [
    "best = compare_models()"
   ]
  },
  {
   "cell_type": "markdown",
   "metadata": {},
   "source": [
    "### Which model is best?\n",
    "\n",
    "- PyCaret shows which model it has determined is \"best\"\n",
    "- There are many metrics for scoring model performance. One good source for exploring other metrics is the ``sklearn.metrics`` section of the scikit-learn documentation (https://scikit-learn.org/stable/modules/model_evaluation.html)\n",
    "- Required computing time is also an important metric\n",
    "- Explainability is also important, especially if you are working with stakeholders who are not experts in machine learning\n",
    "- You need to decide which model is the best for your purposes"
   ]
  },
  {
   "cell_type": "markdown",
   "metadata": {},
   "source": [
    "###  Identifying the most important features\n",
    "\n",
    "Feature importance measures how much each feature contributes to a specific build of a model, and many models allow you to display the feature importances after training a model. PyCaret can show the feature importance for the best model.\n",
    "\n",
    "Let's take a look at the feature importance plot for the best performing model:"
   ]
  },
  {
   "cell_type": "code",
   "execution_count": 5,
   "metadata": {},
   "outputs": [
    {
     "data": {
      "text/html": [],
      "text/plain": [
       "<IPython.core.display.HTML object>"
      ]
     },
     "metadata": {},
     "output_type": "display_data"
    },
    {
     "data": {
      "image/png": "[encoded data removed]",
      "text/plain": [
       "<Figure size 800x500 with 1 Axes>"
      ]
     },
     "metadata": {},
     "output_type": "display_data"
    }
   ],
   "source": [
    "plot_model(best, plot='feature')"
   ]
  },
  {
   "cell_type": "markdown",
   "metadata": {},
   "source": [
    "Which features are most important in your plot?\n",
    "\n",
    "- Can change between different training instances (especially if random state not set)\n",
    "- Is often different for different types of model"
   ]
  },
  {
   "cell_type": "markdown",
   "metadata": {},
   "source": [
    "Other options for the ``plot_model`` function to explore on your own:\n",
    "    \n",
    "* ``pipeline`` - Schematic drawing of the preprocessing pipeline\n",
    "* ``residuals_interactive`` - Interactive Residual plots\n",
    "* ``residuals`` - Residuals Plot\n",
    "* ``error`` - Prediction Error Plot\n",
    "* ``cooks`` - Cooks Distance Plot\n",
    "* ``rfe`` - Recursive Feat. Selection\n",
    "* ``learning`` - Learning Curve\n",
    "* ``vc`` - Validation Curve\n",
    "* ``manifold`` - Manifold Learning\n",
    "* ``feature`` - Feature Importance\n",
    "* ``feature_all`` - Feature Importance (All)\n",
    "* ``parameter`` - Model Hyperparameter\n",
    "* ``tree`` - Decision Tree"
   ]
  },
  {
   "cell_type": "markdown",
   "metadata": {},
   "source": [
    "## Bonus Section: EDA using python code\n",
    "\n",
    "We used the SweetViz library to do all our exploratory data analysis (EDA) in just a few lines of code. Sometimes, however, it is desirable to do additional exploration on your own. Below is the python code necessary to do the same analysis that SweetViz performed. This code provides a good set of templates for doing your own customized EDA."
   ]
  },
  {
   "cell_type": "markdown",
   "metadata": {},
   "source": [
    "We can get a high-level overview of the dataset using the ``info`` function"
   ]
  },
  {
   "cell_type": "code",
   "execution_count": 6,
   "metadata": {
    "ExecuteTime": {
     "end_time": "2024-06-26T16:49:45.746932Z",
     "start_time": "2024-06-26T16:49:45.735372Z"
    },
    "tags": []
   },
   "outputs": [
    {
     "name": "stdout",
     "output_type": "stream",
     "text": [
      "<class 'pandas.core.frame.DataFrame'>\n",
      "RangeIndex: 1144 entries, 0 to 1143\n",
      "Data columns (total 5 columns):\n",
      " #   Column              Non-Null Count  Dtype  \n",
      "---  ------              --------------  -----  \n",
      " 0   MolLogP             1144 non-null   float64\n",
      " 1   MolWt               1144 non-null   float64\n",
      " 2   NumRotatableBonds   1144 non-null   int64  \n",
      " 3   AromaticProportion  1144 non-null   float64\n",
      " 4   logS                1144 non-null   float64\n",
      "dtypes: float64(4), int64(1)\n",
      "memory usage: 44.8 KB\n"
     ]
    }
   ],
   "source": [
    "df.info()"
   ]
  },
  {
   "cell_type": "markdown",
   "metadata": {},
   "source": [
    "Since the data is already preprocessed, the value of ``Non-Null Count`` columns for all features should be equal to the total number of samples in the dataset, *i.e.,* 1144. All features are of numerical type ``float64``. The experimentally measured solubility in the last column ``logS`` is the target variable and the remaining columns are the features.\n",
    "\n",
    "In addition to ``info()``, Pandas provides another useful function called ``describe`` which provides a statistical summary of all numerical features in our dataset. The provided statistics involve the count, mean, standard deviation, minimum, 25th percentile, median, 75th percentile, and maximum values for each feature."
   ]
  },
  {
   "cell_type": "code",
   "execution_count": 7,
   "metadata": {},
   "outputs": [
    {
     "data": {
      "text/html": [
       "<div>\n",
       "<style scoped>\n",
       "    .dataframe tbody tr th:only-of-type {\n",
       "        vertical-align: middle;\n",
       "    }\n",
       "\n",
       "    .dataframe tbody tr th {\n",
       "        vertical-align: top;\n",
       "    }\n",
       "\n",
       "    .dataframe thead th {\n",
       "        text-align: right;\n",
       "    }\n",
       "</style>\n",
       "<table border=\"1\" class=\"dataframe\">\n",
       "  <thead>\n",
       "    <tr style=\"text-align: right;\">\n",
       "      <th></th>\n",
       "      <th>MolLogP</th>\n",
       "      <th>MolWt</th>\n",
       "      <th>NumRotatableBonds</th>\n",
       "      <th>AromaticProportion</th>\n",
       "      <th>logS</th>\n",
       "    </tr>\n",
       "  </thead>\n",
       "  <tbody>\n",
       "    <tr>\n",
       "      <th>count</th>\n",
       "      <td>1144.000000</td>\n",
       "      <td>1144.000000</td>\n",
       "      <td>1144.000000</td>\n",
       "      <td>1144.000000</td>\n",
       "      <td>1144.000000</td>\n",
       "    </tr>\n",
       "    <tr>\n",
       "      <th>mean</th>\n",
       "      <td>2.449133</td>\n",
       "      <td>204.631675</td>\n",
       "      <td>2.173951</td>\n",
       "      <td>0.364932</td>\n",
       "      <td>-3.057997</td>\n",
       "    </tr>\n",
       "    <tr>\n",
       "      <th>std</th>\n",
       "      <td>1.866003</td>\n",
       "      <td>102.620500</td>\n",
       "      <td>2.627398</td>\n",
       "      <td>0.343305</td>\n",
       "      <td>2.096502</td>\n",
       "    </tr>\n",
       "    <tr>\n",
       "      <th>min</th>\n",
       "      <td>-7.571400</td>\n",
       "      <td>16.043000</td>\n",
       "      <td>0.000000</td>\n",
       "      <td>0.000000</td>\n",
       "      <td>-11.600000</td>\n",
       "    </tr>\n",
       "    <tr>\n",
       "      <th>25%</th>\n",
       "      <td>1.414900</td>\n",
       "      <td>122.126000</td>\n",
       "      <td>0.000000</td>\n",
       "      <td>0.000000</td>\n",
       "      <td>-4.332250</td>\n",
       "    </tr>\n",
       "    <tr>\n",
       "      <th>50%</th>\n",
       "      <td>2.340300</td>\n",
       "      <td>183.594500</td>\n",
       "      <td>1.000000</td>\n",
       "      <td>0.375000</td>\n",
       "      <td>-2.870500</td>\n",
       "    </tr>\n",
       "    <tr>\n",
       "      <th>75%</th>\n",
       "      <td>3.406475</td>\n",
       "      <td>270.715750</td>\n",
       "      <td>3.000000</td>\n",
       "      <td>0.666667</td>\n",
       "      <td>-1.600000</td>\n",
       "    </tr>\n",
       "    <tr>\n",
       "      <th>max</th>\n",
       "      <td>10.388600</td>\n",
       "      <td>780.949000</td>\n",
       "      <td>23.000000</td>\n",
       "      <td>1.000000</td>\n",
       "      <td>1.580000</td>\n",
       "    </tr>\n",
       "  </tbody>\n",
       "</table>\n",
       "</div>"
      ],
      "text/plain": [
       "           MolLogP        MolWt  NumRotatableBonds  AromaticProportion  \\\n",
       "count  1144.000000  1144.000000        1144.000000         1144.000000   \n",
       "mean      2.449133   204.631675           2.173951            0.364932   \n",
       "std       1.866003   102.620500           2.627398            0.343305   \n",
       "min      -7.571400    16.043000           0.000000            0.000000   \n",
       "25%       1.414900   122.126000           0.000000            0.000000   \n",
       "50%       2.340300   183.594500           1.000000            0.375000   \n",
       "75%       3.406475   270.715750           3.000000            0.666667   \n",
       "max      10.388600   780.949000          23.000000            1.000000   \n",
       "\n",
       "              logS  \n",
       "count  1144.000000  \n",
       "mean     -3.057997  \n",
       "std       2.096502  \n",
       "min     -11.600000  \n",
       "25%      -4.332250  \n",
       "50%      -2.870500  \n",
       "75%      -1.600000  \n",
       "max       1.580000  "
      ]
     },
     "execution_count": 7,
     "metadata": {},
     "output_type": "execute_result"
    }
   ],
   "source": [
    "df.describe()"
   ]
  },
  {
   "cell_type": "markdown",
   "metadata": {},
   "source": [
    "This information is extremely useful for understanding the data and the distribution of the features. It helps in identifying any missing values or anomalies in the data or if our data requires any preprocessing. "
   ]
  },
  {
   "cell_type": "markdown",
   "metadata": {},
   "source": [
    "Visualizing the data can also be helpful. For example, the skeweness of the data, which is determined by comparing the mean and median values, can be visualized using Pandas's ``hist`` function"
   ]
  },
  {
   "cell_type": "code",
   "execution_count": 8,
   "metadata": {},
   "outputs": [
    {
     "data": {
      "text/plain": [
       "array([[<Axes: title={'center': 'MolLogP'}>,\n",
       "        <Axes: title={'center': 'MolWt'}>],\n",
       "       [<Axes: title={'center': 'NumRotatableBonds'}>,\n",
       "        <Axes: title={'center': 'AromaticProportion'}>],\n",
       "       [<Axes: title={'center': 'logS'}>, <Axes: >]], dtype=object)"
      ]
     },
     "execution_count": 8,
     "metadata": {},
     "output_type": "execute_result"
    },
    {
     "data": {
      "image/png": "[encoded data removed]",
      "text/plain": [
       "<Figure size 800x800 with 6 Axes>"
      ]
     },
     "metadata": {},
     "output_type": "display_data"
    }
   ],
   "source": [
    "df.hist(figsize=(8,8), edgecolor='black', grid=False)"
   ]
  },
  {
   "cell_type": "markdown",
   "metadata": {},
   "source": [
    "Clearly, the ``MolLogP`` solubility values are normally distributed while other features are more or less positively or negatively skewed. The Pandas library helps us quantify these observations for each feature using the ``skew`` function."
   ]
  },
  {
   "cell_type": "code",
   "execution_count": 9,
   "metadata": {},
   "outputs": [
    {
     "data": {
      "text/plain": [
       "MolLogP              -0.012982\n",
       "MolWt                 0.890477\n",
       "NumRotatableBonds     2.158178\n",
       "AromaticProportion    0.226302\n",
       "logS                 -0.484590\n",
       "dtype: float64"
      ]
     },
     "execution_count": 9,
     "metadata": {},
     "output_type": "execute_result"
    }
   ],
   "source": [
    "df.skew()"
   ]
  },
  {
   "cell_type": "markdown",
   "metadata": {},
   "source": [
    "The numerical values of skewness can be interpreted using the following rules:\n",
    "- The skewness value of zero indicates a perfect symmetrical distribution,\n",
    "- a skewness between -0.5 and 0.5 indicates an approximately symmetric distribution,\n",
    "- a skewness between -1 and -0.5 (or 0.5 and 1) indicates a moderately skewed distribution,\n",
    "- a skewness between -1.5 and -1 (or 1 and 1.5) indicates a highly skewed distribution, and\n",
    "- a skewness less than -1.5 (or greater than 1.5) indicates an extremely skewed distribution."
   ]
  },
  {
   "cell_type": "markdown",
   "metadata": {},
   "source": [
    "Next, we use Pandas's ``corr`` function to calculate the correlation matrix between the features and the target variable. The correlation matrix provides insights into the relationships between the features and the target variable(s). A correlation value close to 1 indicates a strong positive relationship, while a correlation value close to -1 indicates a strong negative relationship. A correlation value close to 0 indicates no relationship between the features."
   ]
  },
  {
   "cell_type": "code",
   "execution_count": 10,
   "metadata": {},
   "outputs": [
    {
     "data": {
      "text/html": [
       "<div>\n",
       "<style scoped>\n",
       "    .dataframe tbody tr th:only-of-type {\n",
       "        vertical-align: middle;\n",
       "    }\n",
       "\n",
       "    .dataframe tbody tr th {\n",
       "        vertical-align: top;\n",
       "    }\n",
       "\n",
       "    .dataframe thead th {\n",
       "        text-align: right;\n",
       "    }\n",
       "</style>\n",
       "<table border=\"1\" class=\"dataframe\">\n",
       "  <thead>\n",
       "    <tr style=\"text-align: right;\">\n",
       "      <th></th>\n",
       "      <th>MolLogP</th>\n",
       "      <th>MolWt</th>\n",
       "      <th>NumRotatableBonds</th>\n",
       "      <th>AromaticProportion</th>\n",
       "      <th>logS</th>\n",
       "    </tr>\n",
       "  </thead>\n",
       "  <tbody>\n",
       "    <tr>\n",
       "      <th>MolLogP</th>\n",
       "      <td>1.000000</td>\n",
       "      <td>0.468097</td>\n",
       "      <td>0.205607</td>\n",
       "      <td>0.250977</td>\n",
       "      <td>-0.827959</td>\n",
       "    </tr>\n",
       "    <tr>\n",
       "      <th>MolWt</th>\n",
       "      <td>0.468097</td>\n",
       "      <td>1.000000</td>\n",
       "      <td>0.394219</td>\n",
       "      <td>0.098855</td>\n",
       "      <td>-0.637324</td>\n",
       "    </tr>\n",
       "    <tr>\n",
       "      <th>NumRotatableBonds</th>\n",
       "      <td>0.205607</td>\n",
       "      <td>0.394219</td>\n",
       "      <td>1.000000</td>\n",
       "      <td>-0.296737</td>\n",
       "      <td>-0.238508</td>\n",
       "    </tr>\n",
       "    <tr>\n",
       "      <th>AromaticProportion</th>\n",
       "      <td>0.250977</td>\n",
       "      <td>0.098855</td>\n",
       "      <td>-0.296737</td>\n",
       "      <td>1.000000</td>\n",
       "      <td>-0.268108</td>\n",
       "    </tr>\n",
       "    <tr>\n",
       "      <th>logS</th>\n",
       "      <td>-0.827959</td>\n",
       "      <td>-0.637324</td>\n",
       "      <td>-0.238508</td>\n",
       "      <td>-0.268108</td>\n",
       "      <td>1.000000</td>\n",
       "    </tr>\n",
       "  </tbody>\n",
       "</table>\n",
       "</div>"
      ],
      "text/plain": [
       "                     MolLogP     MolWt  NumRotatableBonds  AromaticProportion  \\\n",
       "MolLogP             1.000000  0.468097           0.205607            0.250977   \n",
       "MolWt               0.468097  1.000000           0.394219            0.098855   \n",
       "NumRotatableBonds   0.205607  0.394219           1.000000           -0.296737   \n",
       "AromaticProportion  0.250977  0.098855          -0.296737            1.000000   \n",
       "logS               -0.827959 -0.637324          -0.238508           -0.268108   \n",
       "\n",
       "                        logS  \n",
       "MolLogP            -0.827959  \n",
       "MolWt              -0.637324  \n",
       "NumRotatableBonds  -0.238508  \n",
       "AromaticProportion -0.268108  \n",
       "logS                1.000000  "
      ]
     },
     "execution_count": 10,
     "metadata": {},
     "output_type": "execute_result"
    }
   ],
   "source": [
    "df.corr(method='pearson')"
   ]
  },
  {
   "cell_type": "markdown",
   "metadata": {},
   "source": [
    "An easy way to examine the relationships between the features and the target variable is to use a heatmap correlation matrix plot. \n",
    "We use the Seaborn library to create a heatmap plot of the correlation matrix as shown below"
   ]
  },
  {
   "cell_type": "code",
   "execution_count": 11,
   "metadata": {},
   "outputs": [
    {
     "data": {
      "image/png": "[encoded data removed]",
      "text/plain": [
       "<Figure size 800x600 with 2 Axes>"
      ]
     },
     "metadata": {},
     "output_type": "display_data"
    }
   ],
   "source": [
    "# Create a plot object\n",
    "plt.figure(figsize=(8,6))\n",
    "\n",
    "# Calculate the correlation matrix\n",
    "corr = df.corr()\n",
    "\n",
    "# Create a heatmap\n",
    "sns.set(font_scale=1.1)\n",
    "sns.heatmap(corr, annot=True, cmap=\"coolwarm\", fmt=\".2f\")\n",
    "\n",
    "# Display the heatmap\n",
    "plt.show()"
   ]
  },
  {
   "cell_type": "markdown",
   "metadata": {},
   "source": [
    "Our coloring scheme makes it easy to uncover the relationships between the features. The darker the color, the stronger the correlation. The diagonal line represents the correlation of each feature with itself, which is always 1. In this plot, the red color indicates a positive correlation, while the blue color signifies a negative correlation."
   ]
  },
  {
   "cell_type": "code",
   "execution_count": null,
   "metadata": {},
   "outputs": [],
   "source": []
  }
 ],
 "metadata": {
  "kernelspec": {
   "display_name": "bcce",
   "language": "python",
   "name": "python3"
  },
  "language_info": {
   "codemirror_mode": {
    "name": "ipython",
    "version": 3
   },
   "file_extension": ".py",
   "mimetype": "text/x-python",
   "name": "python",
   "nbconvert_exporter": "python",
   "pygments_lexer": "ipython3",
   "version": "3.10.14"
  }
 },
 "nbformat": 4,
 "nbformat_minor": 4
}
